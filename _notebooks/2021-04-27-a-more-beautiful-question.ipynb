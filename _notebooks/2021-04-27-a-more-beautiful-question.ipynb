{
 "cells": [
  {
   "cell_type": "markdown",
   "metadata": {},
   "source": [
    "# A more beautiful question \n",
    "> The Power of Inquiry to Spark Breakthrough Ideas\n",
    "\n",
    "- toc: true \n",
    "- badges: true\n",
    "- comments: true\n",
    "- categories: [books]\n",
    "- image: img/beautiful-question.jpg"
   ]
  },
  {
   "cell_type": "markdown",
   "metadata": {},
   "source": [
    "- Author:\n",
    "- Genre:\n",
    "- Date finished:"
   ]
  },
  {
   "cell_type": "markdown",
   "metadata": {},
   "source": [
    "# 🚀 The book in 3 sentences \n",
    "\n",
    "\n",
    "<img src=\"img/stormtroopers.jpg\" alt=\"ab-testing\" width=\"600\"/>\n",
    "\n",
    "\n",
    "En pocas palabras, **una prueba A/B es una comparación entre dos alternativas con el objetivo de descubrir cuál es mejor**. \n",
    "\n",
    "Cuando tomamos decisiones es muy fácil dejarnos llevar por nuestras opiniones. Esto no siempre es malo, pero es especialmente peligroso en empresas cuando una iniciativa es seleccionada basado principalmente en la opinión de la persona "
   ]
  },
  {
   "cell_type": "markdown",
   "metadata": {},
   "source": [
    "# 🎨 Impressions"
   ]
  },
  {
   "cell_type": "markdown",
   "metadata": {},
   "source": [
    "# ☘️ How the book changed me"
   ]
  },
  {
   "cell_type": "markdown",
   "metadata": {},
   "source": [
    "# ✍️ My top 3 quotes\n",
    "\n",
    "- \"To encourage or even allow questioning is to cede power\""
   ]
  },
  {
   "cell_type": "markdown",
   "metadata": {},
   "source": [
    "# 📒 Summary + Notes\n",
    "\n",
    "## Introduction: Why Questions?\n",
    "\n",
    "The author's interest in questioning started when he was interviewing some of the most innovative minds for a series of articles and a book he wrote. One common denominator he found was that they were all very good as asking questions.\n",
    "\n",
    "For many of them, their breakthrough products, solutions or services started with a key question or a series of questions that they asked and then answered.\n",
    "\n",
    "Interestingly though, most companies and schools don't teach or encourage good questioning. It is often seen as a waste of time, rebellion towards authority or as a sign of ignorance. Therefore, obedience and memorization is often favored in these settings.\n",
    "\n",
    "The title of the book was borrowed from this quote:\n",
    "\n",
    "> \"Always the beautiful answer who asks a more beautiful question\" - E. E. Cummings\n",
    "\n",
    "It is then worth asking ourselves why questioning is not as common as we could except. To answer this we have to remember that questions tend to disrupt processes and structures that already exist. Questions also force us to wonder if things could be done differently. So, in a way, encouraging people to ask questions implies giving up power.\n",
    "\n",
    "\n",
    "After a great number of interviews and borrowing from well-known theories in areas like design thinking, the author crated a three-part model to formulate and tackle big, beautiful questions:\n",
    "\n",
    "- Why?\n",
    "- What if?\n",
    "- How?\n",
    "\n",
    "The author also finishes the introduction with his own subjective definition of a beautiful question:\n",
    "\n",
    "> \"A beautiful question is an ambitious yet actionable question that can begin to shift the way we perceive or think about something and that might serve as a catalyst to bring about change\".\n",
    "\n",
    "\n",
    "## Chapter 1: The Power of Inquiry\n",
    "\n",
    "This story starts with the emotional but very powerful story about Van Phillips, who lost his leg in a water-skiing accident in the late 1970s. In the hospital he was given a prosthetic leg of wood and foam rubber. \n",
    "\n",
    "Inspired by the technological advances by NASA and the space program, Phillips asked \"Why can’t a prosthetic leg perform more like a human one?\" and \"Why can’t it bend and flex, enabling a person to run and jump?\"\n",
    "\n",
    "In the beginning, many felt these questions as a challenge to the doctors and prosthetics engineers who were experts in the field.\n",
    "\n",
    "> \"It [questioning] often has an inverse relationship to expertise. Such that, within their own subject areas, are apt to be poor questioners\".\n",
    "\n",
    "In the end, Phillips discovered that he would have to answer the question himself.\n",
    "\n",
    "Mark Noonan, inventor of the wheeled shovel, has said that if we never do anything about a problem ourselves, then we are not really questioning. We are complaining.\n",
    "\n",
    "Fast-forwarding several years, Phillips work has impacted the lives of thousands of people and many of us heave seen or heard the story about South Africa’s Oscar Pistorius (aka “the blade runner”), the first double-amputee runner to compete in the Olympics. He ran with a pair of carbon-fiber prosthetic legs known as Cheetahs, created by Van Phillips.\n",
    "\n",
    "After this, the author focuses on different types of questions and how they have been used in the past.\n",
    "\n",
    "For example, open questions tend to encourage more creative answers than closed questions, even though these are also important.\n",
    "\n",
    "The tone is also very important. When presented with a problem, asking \"Oh my God, what are we going to do?\" is very different to asking \"What if this change represents an opportunity for us?\" or \"How can we make the most of this situation?\". The second type of questions usually produces better answers -> Appreciative inquiry"
   ]
  },
  {
   "cell_type": "code",
   "execution_count": null,
   "metadata": {},
   "outputs": [],
   "source": []
  }
 ],
 "metadata": {
  "kernelspec": {
   "display_name": "Python 3",
   "language": "python",
   "name": "python3"
  },
  "language_info": {
   "codemirror_mode": {
    "name": "ipython",
    "version": 3
   },
   "file_extension": ".py",
   "mimetype": "text/x-python",
   "name": "python",
   "nbconvert_exporter": "python",
   "pygments_lexer": "ipython3",
   "version": "3.7.7"
  },
  "varInspector": {
   "cols": {
    "lenName": 16,
    "lenType": 16,
    "lenVar": 40
   },
   "kernels_config": {
    "python": {
     "delete_cmd_postfix": "",
     "delete_cmd_prefix": "del ",
     "library": "var_list.py",
     "varRefreshCmd": "print(var_dic_list())"
    },
    "r": {
     "delete_cmd_postfix": ") ",
     "delete_cmd_prefix": "rm(",
     "library": "var_list.r",
     "varRefreshCmd": "cat(var_dic_list()) "
    }
   },
   "types_to_exclude": [
    "module",
    "function",
    "builtin_function_or_method",
    "instance",
    "_Feature"
   ],
   "window_display": false
  }
 },
 "nbformat": 4,
 "nbformat_minor": 4
}
